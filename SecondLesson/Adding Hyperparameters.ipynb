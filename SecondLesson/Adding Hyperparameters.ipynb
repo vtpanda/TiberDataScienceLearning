{
 "cells": [
  {
   "cell_type": "code",
   "execution_count": 1,
   "metadata": {},
   "outputs": [],
   "source": [
    "import pandas as pd\n",
    "from sklearn.model_selection import train_test_split\n",
    "from sklearn.impute import SimpleImputer\n",
    "import numpy as np\n",
    "from sklearn import tree\n",
    "from sklearn.model_selection import cross_val_score\n",
    "from sklearn.model_selection import GridSearchCV\n",
    "from sklearn.model_selection import RandomizedSearchCV\n",
    "from time import time\n",
    "pd.options.mode.chained_assignment = None  # default='warn'"
   ]
  },
  {
   "cell_type": "code",
   "execution_count": 2,
   "metadata": {},
   "outputs": [],
   "source": [
    "def preprocessdataframe (df):\n",
    "    imputer = SimpleImputer(missing_values = np.nan, strategy = 'mean')\n",
    "    imputer = imputer.fit(df.loc[:,['Age']])\n",
    "    df.loc[:,'Age'] = imputer.transform(df.loc[:,['Age']])\n",
    "\n",
    "    imputer = SimpleImputer(missing_values = np.nan, strategy = 'mean')\n",
    "    imputer = imputer.fit(df.loc[:,['Fare']])\n",
    "    df.loc[:,'Fare'] = imputer.transform(df.loc[:,['Fare']])\n",
    "\n",
    "    df.Embarked = df.Embarked.fillna('S')\n",
    "\n",
    "    df = pd.get_dummies(data=df, columns=['Embarked', 'Pclass', 'Sex'])\n",
    "\n",
    "    return df"
   ]
  },
  {
   "cell_type": "code",
   "execution_count": 3,
   "metadata": {},
   "outputs": [],
   "source": [
    "df = pd.read_csv('~/Documents/GitHub/TiberDataScienceLearning/Data/Titanic/train.csv')\n",
    "y = df[['Survived']]\n",
    "x = df[['Pclass','Sex', 'Age', 'SibSp', 'Parch', 'Fare', 'Embarked']]"
   ]
  },
  {
   "cell_type": "code",
   "execution_count": 4,
   "metadata": {},
   "outputs": [],
   "source": [
    "x_train, x_test, y_train, y_test = train_test_split(x, y, test_size = 0.2, random_state = 0)\n",
    "x_train = preprocessdataframe(x_train)\n",
    "x_test = preprocessdataframe(x_test)"
   ]
  },
  {
   "cell_type": "code",
   "execution_count": 5,
   "metadata": {},
   "outputs": [
    {
     "name": "stdout",
     "output_type": "stream",
     "text": [
      "No hyperparameter decision tree:  0.7499196351667281\n"
     ]
    }
   ],
   "source": [
    "#basic decision tree with no hyperparameters\n",
    "clf = tree.DecisionTreeClassifier()\n",
    "cross_val_roc = cross_val_score(clf, X=x_train, y=y_train, cv=10, scoring='roc_auc')\n",
    "roc_score = np.mean(cross_val_roc)\n",
    "print(\"No hyperparameter decision tree: \", roc_score)"
   ]
  },
  {
   "cell_type": "code",
   "execution_count": 6,
   "metadata": {},
   "outputs": [
    {
     "name": "stdout",
     "output_type": "stream",
     "text": [
      "Using the max_depth hyperparameter:  {1: 0.7652214280121256, 2: 0.8065079085427922, 3: 0.8418283751132588, 4: 0.8427579714643668, 5: 0.8421548681723101, 6: 0.8256215952436883, 7: 0.7989714419946978, 8: 0.7906519514077653, 9: 0.7977096197299686, 10: 0.7740012248733179, 11: 0.7609355249616877}\n"
     ]
    }
   ],
   "source": [
    "#testing out max_depth parameters with values from 1 to 12\n",
    "aucs = dict()\n",
    "for i in range(1,12):\n",
    "    clf = tree.DecisionTreeClassifier(max_depth=i)\n",
    "    cross_val_roc = cross_val_score(clf, x_train, y_train, cv=10, scoring='roc_auc')\n",
    "    roc_score = np.mean(cross_val_roc)\n",
    "    aucs[i] = roc_score\n",
    "print(\"Using the max_depth hyperparameter: \", aucs)"
   ]
  },
  {
   "cell_type": "code",
   "execution_count": 7,
   "metadata": {},
   "outputs": [
    {
     "name": "stdout",
     "output_type": "stream",
     "text": [
      "Using the min_samples_split hyperparameter:  {0.01: 0.7971155351969306, 0.05: 0.8157350078861707, 0.1: 0.8302917044196114, 0.2: 0.8400290627761556, 0.5: 0.804992337550477}\n"
     ]
    }
   ],
   "source": [
    "#test out min_samples_split parameter with values of [.01, .05, .1, .2, .5]\n",
    "aucs = dict()\n",
    "params = [.01, .05, .1, .2, .5]\n",
    "for i in params:\n",
    "    clf = tree.DecisionTreeClassifier(min_samples_split = i)\n",
    "    cross_val_roc = cross_val_score(clf, X=x_train, y=y_train, cv=10, scoring='roc_auc')\n",
    "    roc_score = np.mean(cross_val_roc)\n",
    "    aucs[i] = roc_score\n",
    "print(\"Using the min_samples_split hyperparameter: \", aucs)"
   ]
  },
  {
   "cell_type": "code",
   "execution_count": 8,
   "metadata": {},
   "outputs": [
    {
     "name": "stdout",
     "output_type": "stream",
     "text": [
      "Using the min_samples_leaf hyperparameter:  {0.01: 0.8288779615087755, 0.05: 0.8297986090137253, 0.1: 0.8305953709296732, 0.2: 0.7927730726422586, 0.5: 0.5233987158405763}\n"
     ]
    }
   ],
   "source": [
    "#test out min_samples_leaf parameter with values of [.01, .05, .1, .2, .5]\n",
    "aucs = dict()\n",
    "params = [.01, .05, .1, .2, .5]\n",
    "for i in params:\n",
    "    clf = tree.DecisionTreeClassifier(min_samples_leaf = i)\n",
    "    cross_val_roc = cross_val_score(clf, X=x_train, y=y_train, cv=10, scoring='roc_auc')\n",
    "    roc_score = np.mean(cross_val_roc)\n",
    "    aucs[i] = roc_score\n",
    "print(\"Using the min_samples_leaf hyperparameter: \", aucs)"
   ]
  },
  {
   "cell_type": "code",
   "execution_count": 9,
   "metadata": {},
   "outputs": [
    {
     "name": "stdout",
     "output_type": "stream",
     "text": [
      "Using the max_features hyperparameter:  {1: 0.739331367383693, 2: 0.7160683873619921, 3: 0.7270564867948589, 4: 0.7330205082385315, 5: 0.751907642314619, 6: 0.7753040859872256, 7: 0.7592604827343199}\n"
     ]
    }
   ],
   "source": [
    "#test out max_features parameter with values of 1 to 8\n",
    "aucs = dict()\n",
    "for i in range(1,8):\n",
    "    clf = tree.DecisionTreeClassifier(max_features=i)\n",
    "    cross_val_roc = cross_val_score(clf, x_train, y_train, cv=10, scoring='roc_auc')\n",
    "    roc_score = np.mean(cross_val_roc)\n",
    "    aucs[i] = roc_score\n",
    "print(\"Using the max_features hyperparameter: \", aucs)"
   ]
  },
  {
   "cell_type": "code",
   "execution_count": 10,
   "metadata": {},
   "outputs": [
    {
     "name": "stdout",
     "output_type": "stream",
     "text": [
      "Using the min_impurity_decrease hyperparameter:  {0.001: 0.7565446827074734, 0.0001: 0.7625792112710716, 0.01: 0.8196643903039252, 0.05: 0.7652214280121256, 0.1: 0.7652214280121256, 0.2: 0.5, 0.5: 0.5}\n"
     ]
    }
   ],
   "source": [
    "#test out min_impurity_decrease parameter with values of [.001, .0001, .01, .05, .1, .2, .5]\n",
    "aucs = dict()\n",
    "params = [.001, .0001, .01, .05, .1, .2, .5]\n",
    "for i in params:\n",
    "    clf = tree.DecisionTreeClassifier(min_impurity_decrease = i)\n",
    "    cross_val_roc = cross_val_score(clf, X=x_train, y=y_train, cv=10, scoring='roc_auc')\n",
    "    roc_score = np.mean(cross_val_roc)\n",
    "    aucs[i] = roc_score\n",
    "print(\"Using the min_impurity_decrease hyperparameter: \", aucs)"
   ]
  },
  {
   "cell_type": "code",
   "execution_count": 11,
   "metadata": {},
   "outputs": [
    {
     "name": "stdout",
     "output_type": "stream",
     "text": [
      "Best Score:  0.8519964713172512\n",
      "Best Parameters:  {'max_depth': 10, 'max_features': 6, 'min_impurity_decrease': 0.0001, 'min_samples_leaf': 0.01, 'min_samples_split': 0.1}\n",
      "Time:  670.9715230464935\n"
     ]
    },
    {
     "name": "stderr",
     "output_type": "stream",
     "text": [
      "/usr/local/lib/python3.7/site-packages/sklearn/model_selection/_search.py:841: DeprecationWarning: The default of the `iid` parameter will change from True to False in version 0.22 and will be removed in 0.24. This will change numeric results when test-set sizes are unequal.\n",
      "  DeprecationWarning)\n"
     ]
    }
   ],
   "source": [
    "#use GridSearchCV to find the best hyperparameters\n",
    "param_grid = [\n",
    "  {'max_depth': range(1,12), 'min_samples_split': [.01, .05, .1, .2, .5], 'min_samples_leaf': [.01, .05, .1, .2, .5], 'max_features': range(1,8), 'min_impurity_decrease': [.001, .0001, .01, .05, .1, .2, .5]},\n",
    " ]\n",
    "clf = tree.DecisionTreeClassifier()\n",
    "gscv = GridSearchCV(clf, param_grid, cv=10, scoring='roc_auc')\n",
    "start = time()\n",
    "gscv = gscv.fit(x_train , y_train)\n",
    "stop = time()\n",
    "print(\"Best Score: \", gscv.best_score_)\n",
    "print(\"Best Parameters: \", gscv.best_params_)\n",
    "print(\"Time: \", stop-start)"
   ]
  },
  {
   "cell_type": "code",
   "execution_count": 12,
   "metadata": {},
   "outputs": [
    {
     "name": "stdout",
     "output_type": "stream",
     "text": [
      "Best Score:  0.7727468404728659\n",
      "Best Parameters:  {'min_samples_split': 0.2, 'min_samples_leaf': 0.2, 'min_impurity_decrease': 0.0001, 'max_features': 7, 'max_depth': 11}\n",
      "Time:  0.5059289932250977\n"
     ]
    },
    {
     "name": "stderr",
     "output_type": "stream",
     "text": [
      "/usr/local/lib/python3.7/site-packages/sklearn/model_selection/_search.py:841: DeprecationWarning: The default of the `iid` parameter will change from True to False in version 0.22 and will be removed in 0.24. This will change numeric results when test-set sizes are unequal.\n",
      "  DeprecationWarning)\n"
     ]
    }
   ],
   "source": [
    "#use RandomizedSearchCV to find the best hyperparameters\n",
    "param_grid = {'max_depth': range(1,12), 'min_samples_split': [.01, .05, .1, .2, .5], 'min_samples_leaf': [.01, .05, .1, .2, .5], 'max_features': range(1,8), 'min_impurity_decrease': [.001, .0001, .01, .05, .1, .2, .5]}\n",
    "clf = tree.DecisionTreeClassifier()\n",
    "gscv = RandomizedSearchCV(clf, param_grid, cv=10, scoring='roc_auc')\n",
    "start = time()\n",
    "gscv = gscv.fit(x_train , y_train)\n",
    "stop = time()\n",
    "print(\"Best Score: \", gscv.best_score_)\n",
    "print(\"Best Parameters: \", gscv.best_params_)\n",
    "print(\"Time: \", stop-start)"
   ]
  },
  {
   "cell_type": "code",
   "execution_count": null,
   "metadata": {},
   "outputs": [],
   "source": []
  }
 ],
 "metadata": {
  "kernelspec": {
   "display_name": "Python 3",
   "language": "python",
   "name": "python3"
  },
  "language_info": {
   "codemirror_mode": {
    "name": "ipython",
    "version": 3
   },
   "file_extension": ".py",
   "mimetype": "text/x-python",
   "name": "python",
   "nbconvert_exporter": "python",
   "pygments_lexer": "ipython3",
   "version": "3.7.0"
  }
 },
 "nbformat": 4,
 "nbformat_minor": 2
}
