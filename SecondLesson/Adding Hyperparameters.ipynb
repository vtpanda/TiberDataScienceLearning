{
 "cells": [
  {
   "cell_type": "code",
   "execution_count": null,
   "metadata": {},
   "outputs": [],
   "source": [
    "import pandas as pd\n",
    "from sklearn.model_selection import train_test_split\n",
    "from sklearn.impute import SimpleImputer\n",
    "import numpy as np\n",
    "from sklearn import tree\n",
    "from sklearn.model_selection import cross_val_score\n",
    "from sklearn.model_selection import GridSearchCV\n",
    "from sklearn.model_selection import RandomizedSearchCV\n",
    "from time import time\n",
    "pd.options.mode.chained_assignment = None  # default='warn'"
   ]
  },
  {
   "cell_type": "code",
   "execution_count": null,
   "metadata": {},
   "outputs": [],
   "source": [
    "def preprocessdataframe (df):\n",
    "    imputer = SimpleImputer(missing_values = np.nan, strategy = 'mean')\n",
    "    imputer = imputer.fit(df.loc[:,['Age']])\n",
    "    df.loc[:,'Age'] = imputer.transform(df.loc[:,['Age']])\n",
    "\n",
    "    imputer = SimpleImputer(missing_values = np.nan, strategy = 'mean')\n",
    "    imputer = imputer.fit(df.loc[:,['Fare']])\n",
    "    df.loc[:,'Fare'] = imputer.transform(df.loc[:,['Fare']])\n",
    "\n",
    "    df.Embarked = df.Embarked.fillna('S')\n",
    "\n",
    "    df = pd.get_dummies(data=df, columns=['Embarked', 'Pclass', 'Sex'])\n",
    "\n",
    "    return df"
   ]
  },
  {
   "cell_type": "code",
   "execution_count": null,
   "metadata": {},
   "outputs": [],
   "source": [
    "def showdecisiontree(model, feature_names, name):\n",
    "    dot_data = tree.export_graphviz(model, out_file=None,\n",
    "         feature_names=feature_names,\n",
    "         class_names=['Did not survive', 'Survived'],\n",
    "         filled=True, rounded=True,\n",
    "         special_characters=True)\n",
    "    graph = graphviz.Source(dot_data)\n",
    "    graph.render(name)\n",
    "    return True\n",
    "\n"
   ]
  },
  {
   "cell_type": "code",
   "execution_count": null,
   "metadata": {},
   "outputs": [],
   "source": [
    "def showroccurve(fpr, tpr, roc_auc, label):\n",
    "    plt.figure()\n",
    "    lw = 2\n",
    "    plt.plot(fpr, tpr, color='darkorange',\n",
    "             lw=lw, label='ROC curve - {0} (area = {1:0.2f})'.format(label, roc_auc))\n",
    "    plt.plot([0, 1], [0, 1], color='navy', lw=lw, linestyle='--')\n",
    "    plt.xlim([0.0, 1.0])\n",
    "    plt.ylim([0.0, 1.05])\n",
    "    plt.xlabel('False Positive Rate')\n",
    "    plt.ylabel('True Positive Rate')\n",
    "    plt.title('Receiver operating characteristic example')\n",
    "    plt.legend(loc=\"lower right\")\n",
    "    plt.show()\n",
    "\n"
   ]
  },
  {
   "cell_type": "code",
   "execution_count": null,
   "metadata": {},
   "outputs": [],
   "source": [
    "def showmultiroccurve(params): #this should be a list of dictionaries of fpr, tpr, roc_auc, label, and color\n",
    "    plt.figure()\n",
    "    lw = 2\n",
    "    for param in params:\n",
    "        plt.plot(param[\"fpr\"], param[\"tpr\"], color=param[\"color\"],\n",
    "             lw=lw, label='ROC curve - {0} (area = {1:0.2f})'.format(param[\"label\"],param[\"roc_auc\"]))\n",
    "    plt.plot([0, 1], [0, 1], color='navy', lw=lw, linestyle='--')\n",
    "    plt.xlim([0.0, 1.0])\n",
    "    plt.ylim([0.0, 1.05])\n",
    "    plt.xlabel('False Positive Rate')\n",
    "    plt.ylabel('True Positive Rate')\n",
    "    plt.title('Receiver operating characteristic example')\n",
    "    plt.legend(loc=\"lower right\")\n",
    "    plt.show()"
   ]
  },
  {
   "cell_type": "code",
   "execution_count": null,
   "metadata": {},
   "outputs": [],
   "source": [
    "# roccurvevalues = []\n",
    "\n",
    "# clfkfold = tree.DecisionTreeClassifier()\n",
    "# kf = StratifiedKFold(n_splits=10)\n",
    "\n",
    "# for train_index, test_index in kf.split(x_train, y_train):\n",
    "#     roccurvevalue = dict()\n",
    "#     clfkfold = tree.DecisionTreeClassifier()\n",
    "\n",
    "#     cvv_x_train, cvv_x_test = x_train.iloc[train_index], x_train.iloc[test_index]\n",
    "#     cvv_y_train, cvv_y_test = y_train.iloc[train_index], y_train.iloc[test_index]\n",
    "\n",
    "\n",
    "#     clfkfold = clfkfold.fit(cvv_x_train, cvv_y_train)\n",
    "#     cvv_y_predictions = clfkfold.predict(cvv_x_test)\n",
    "\n",
    "#     cvv_cm = pd.DataFrame(\n",
    "#         confusion_matrix(cvv_y_test, cvv_y_predictions),\n",
    "#         columns=['Predicted Not Survival', 'Predicted Survival'],\n",
    "#         index=['True Not Survival', 'True Survival']\n",
    "#     )\n",
    "#     cvv_score = clfkfold.score(cvv_x_test, cvv_y_test)\n",
    "\n",
    "#     cvv_fpr, cvv_tpr, thresholds = metrics.roc_curve(cvv_y_test, cvv_y_predictions)\n",
    "#     cvv_roc_auc = metrics.roc_auc_score(cvv_y_test, cvv_y_predictions)\n",
    "\n",
    "#     fprs.append(cvv_fpr[1])\n",
    "#     tprs.append(cvv_tpr[1])\n",
    "#     rocs.append(cvv_roc_auc)\n",
    "\n",
    "# avgfpr = array.array('f', [0.0, np.mean(fprs), 1])\n",
    "# avgtpr = array.array('f', [0.0, np.mean(tprs), 1])\n",
    "# avgroc = np.mean(rocs)"
   ]
  },
  {
   "cell_type": "code",
   "execution_count": null,
   "metadata": {},
   "outputs": [],
   "source": [
    "df = pd.read_csv('~/Documents/GitHub/TiberDataScienceLearning/Data/Titanic/train.csv')\n",
    "y = df[['Survived']]\n",
    "x = df[['Pclass','Sex', 'Age', 'SibSp', 'Parch', 'Fare', 'Embarked']]"
   ]
  },
  {
   "cell_type": "code",
   "execution_count": null,
   "metadata": {},
   "outputs": [],
   "source": [
    "x_train, x_test, y_train, y_test = train_test_split(x, y, test_size = 0.2, random_state = 0)\n",
    "x_train = preprocessdataframe(x_train)\n",
    "x_test = preprocessdataframe(x_test)"
   ]
  },
  {
   "cell_type": "code",
   "execution_count": null,
   "metadata": {},
   "outputs": [],
   "source": [
    "#basic decision tree with no hyperparameters\n",
    "clf = tree.DecisionTreeClassifier()\n",
    "cross_val_roc = cross_val_score(clf, X=x_train, y=y_train, cv=10, scoring='roc_auc')\n",
    "roc_score = np.mean(cross_val_roc)\n",
    "print(\"No hyperparameter decision tree: \", roc_score)"
   ]
  },
  {
   "cell_type": "code",
   "execution_count": null,
   "metadata": {},
   "outputs": [],
   "source": [
    "#testing out max_depth parameters with values from 1 to 12\n",
    "aucs = dict()\n",
    "for i in range(1,12):\n",
    "    clf = tree.DecisionTreeClassifier(max_depth=i)\n",
    "    cross_val_roc = cross_val_score(clf, x_train, y_train, cv=10, scoring='roc_auc')\n",
    "    roc_score = np.mean(cross_val_roc)\n",
    "    aucs[i] = roc_score\n",
    "print(\"Using the max_depth hyperparameter: \", aucs)"
   ]
  },
  {
   "cell_type": "code",
   "execution_count": null,
   "metadata": {},
   "outputs": [],
   "source": [
    "#test out min_samples_split parameter with values of [.01, .05, .1, .2, .5]\n",
    "aucs = dict()\n",
    "params = [.01, .05, .1, .2, .5]\n",
    "for i in params:\n",
    "    clf = tree.DecisionTreeClassifier(min_samples_split = i)\n",
    "    cross_val_roc = cross_val_score(clf, X=x_train, y=y_train, cv=10, scoring='roc_auc')\n",
    "    roc_score = np.mean(cross_val_roc)\n",
    "    aucs[i] = roc_score\n",
    "print(\"Using the min_samples_split hyperparameter: \", aucs)"
   ]
  },
  {
   "cell_type": "code",
   "execution_count": null,
   "metadata": {},
   "outputs": [],
   "source": [
    "#test out min_samples_leaf parameter with values of [.01, .05, .1, .2, .5]\n",
    "aucs = dict()\n",
    "params = [.01, .05, .1, .2, .5]\n",
    "for i in params:\n",
    "    clf = tree.DecisionTreeClassifier(min_samples_leaf = i)\n",
    "    cross_val_roc = cross_val_score(clf, X=x_train, y=y_train, cv=10, scoring='roc_auc')\n",
    "    roc_score = np.mean(cross_val_roc)\n",
    "    aucs[i] = roc_score\n",
    "print(\"Using the min_samples_leaf hyperparameter: \", aucs)"
   ]
  },
  {
   "cell_type": "code",
   "execution_count": null,
   "metadata": {},
   "outputs": [],
   "source": [
    "#test out max_features parameter with values of 1 to 8\n",
    "aucs = dict()\n",
    "for i in range(1,8):\n",
    "    clf = tree.DecisionTreeClassifier(max_features=i)\n",
    "    cross_val_roc = cross_val_score(clf, x_train, y_train, cv=10, scoring='roc_auc')\n",
    "    roc_score = np.mean(cross_val_roc)\n",
    "    aucs[i] = roc_score\n",
    "print(\"Using the max_features hyperparameter: \", aucs)"
   ]
  },
  {
   "cell_type": "code",
   "execution_count": null,
   "metadata": {},
   "outputs": [],
   "source": [
    "#test out min_impurity_decrease parameter with values of [.0001, .001, .01, .05, .1, .2, .5]\n",
    "aucs = dict()\n",
    "params = [.0001, .001, .01, .05, .1, .2, .5]\n",
    "for i in params:\n",
    "    clf = tree.DecisionTreeClassifier(min_impurity_decrease = i)\n",
    "    cross_val_roc = cross_val_score(clf, X=x_train, y=y_train, cv=10, scoring='roc_auc')\n",
    "    roc_score = np.mean(cross_val_roc)\n",
    "    aucs[i] = roc_score\n",
    "print(\"Using the min_impurity_decrease hyperparameter: \", aucs)"
   ]
  },
  {
   "cell_type": "code",
   "execution_count": null,
   "metadata": {},
   "outputs": [],
   "source": [
    "#use GridSearchCV to find the best hyperparameters\n",
    "param_grid = [\n",
    "  {'max_depth': range(1,12), 'min_samples_split': [.01, .05, .1, .2, .5], 'min_samples_leaf': [.01, .05, .1, .2, .5], 'max_features': range(1,8), 'min_impurity_decrease': [.001, .0001, .01, .05, .1, .2, .5]},\n",
    " ]\n",
    "clf = tree.DecisionTreeClassifier()\n",
    "gscv = GridSearchCV(clf, param_grid, cv=10, scoring='roc_auc')\n",
    "start = time()\n",
    "gscv = gscv.fit(x_train , y_train)\n",
    "stop = time()\n",
    "print(\"Best Score: \", gscv.best_score_)\n",
    "print(\"Best Parameters: \", gscv.best_params_)\n",
    "print(\"Time: \", stop-start)"
   ]
  },
  {
   "cell_type": "code",
   "execution_count": null,
   "metadata": {},
   "outputs": [],
   "source": [
    "#use RandomizedSearchCV to find the best hyperparameters\n",
    "param_grid = {'max_depth': range(1,12), 'min_samples_split': [.01, .05, .1, .2, .5], 'min_samples_leaf': [.01, .05, .1, .2, .5], 'max_features': range(1,8), 'min_impurity_decrease': [.001, .0001, .01, .05, .1, .2, .5]}\n",
    "clf = tree.DecisionTreeClassifier()\n",
    "gscv = RandomizedSearchCV(clf, param_grid, cv=10, scoring='roc_auc')\n",
    "start = time()\n",
    "gscv = gscv.fit(x_train , y_train)\n",
    "stop = time()\n",
    "print(\"Best Score: \", gscv.best_score_)\n",
    "print(\"Best Parameters: \", gscv.best_params_)\n",
    "print(\"Time: \", stop-start)"
   ]
  },
  {
   "cell_type": "code",
   "execution_count": null,
   "metadata": {},
   "outputs": [],
   "source": []
  }
 ],
 "metadata": {
  "kernelspec": {
   "display_name": "Python 3",
   "language": "python",
   "name": "python3"
  },
  "language_info": {
   "codemirror_mode": {
    "name": "ipython",
    "version": 3
   },
   "file_extension": ".py",
   "mimetype": "text/x-python",
   "name": "python",
   "nbconvert_exporter": "python",
   "pygments_lexer": "ipython3",
   "version": "3.7.0"
  }
 },
 "nbformat": 4,
 "nbformat_minor": 2
}
